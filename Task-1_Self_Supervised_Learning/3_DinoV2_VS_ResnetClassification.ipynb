{
  "cells": [
    {
      "cell_type": "markdown",
      "metadata": {
        "id": "view-in-github",
        "colab_type": "text"
      },
      "source": [
        "<a href=\"https://colab.research.google.com/github/Atharv-16/GSOC/blob/main/Task-1_Self_Supervised_Learning/3_DinoV2_VS_ResnetClassification.ipynb\" target=\"_parent\"><img src=\"https://colab.research.google.com/assets/colab-badge.svg\" alt=\"Open In Colab\"/></a>"
      ]
    },
    {
      "cell_type": "markdown",
      "source": [
        "# Downloading and extracting dataset"
      ],
      "metadata": {
        "id": "lhNc202t_Czv"
      }
    },
    {
      "cell_type": "code",
      "execution_count": 26,
      "metadata": {
        "colab": {
          "base_uri": "https://localhost:8080/"
        },
        "id": "RyvWhfQ1Cvhs",
        "outputId": "aa1b5865-fd29-47dd-8389-fc0c0b2cb8af"
      },
      "outputs": [
        {
          "output_type": "stream",
          "name": "stdout",
          "text": [
            "Requirement already satisfied: gdown in /usr/local/lib/python3.10/dist-packages (5.1.0)\n",
            "Requirement already satisfied: beautifulsoup4 in /usr/local/lib/python3.10/dist-packages (from gdown) (4.12.3)\n",
            "Requirement already satisfied: filelock in /usr/local/lib/python3.10/dist-packages (from gdown) (3.13.3)\n",
            "Requirement already satisfied: requests[socks] in /usr/local/lib/python3.10/dist-packages (from gdown) (2.31.0)\n",
            "Requirement already satisfied: tqdm in /usr/local/lib/python3.10/dist-packages (from gdown) (4.66.2)\n",
            "Requirement already satisfied: soupsieve>1.2 in /usr/local/lib/python3.10/dist-packages (from beautifulsoup4->gdown) (2.5)\n",
            "Requirement already satisfied: charset-normalizer<4,>=2 in /usr/local/lib/python3.10/dist-packages (from requests[socks]->gdown) (3.3.2)\n",
            "Requirement already satisfied: idna<4,>=2.5 in /usr/local/lib/python3.10/dist-packages (from requests[socks]->gdown) (3.6)\n",
            "Requirement already satisfied: urllib3<3,>=1.21.1 in /usr/local/lib/python3.10/dist-packages (from requests[socks]->gdown) (2.0.7)\n",
            "Requirement already satisfied: certifi>=2017.4.17 in /usr/local/lib/python3.10/dist-packages (from requests[socks]->gdown) (2024.2.2)\n",
            "Requirement already satisfied: PySocks!=1.5.7,>=1.5.6 in /usr/local/lib/python3.10/dist-packages (from requests[socks]->gdown) (1.7.1)\n",
            "/usr/local/lib/python3.10/dist-packages/gdown/__main__.py:132: FutureWarning: Option `--id` was deprecated in version 4.3.1 and will be removed in 5.0. You don't need to pass it anymore to use a file ID.\n",
            "  warnings.warn(\n",
            "Downloading...\n",
            "From (original): https://drive.google.com/uc?id=1aafE2nDp7S6j59sZcBIzP3FnQxVCmHCx\n",
            "From (redirected): https://drive.google.com/uc?id=1aafE2nDp7S6j59sZcBIzP3FnQxVCmHCx&confirm=t&uuid=bcf6bb05-e451-4e13-8cd2-37022ff69f29\n",
            "To: /content/real_hst.zip\n",
            "100% 80.5M/80.5M [00:00<00:00, 154MB/s]\n",
            "Archive:  real_hst.zip\n",
            "replace real_hst/nl_269_hst.npy? [y]es, [n]o, [A]ll, [N]one, [r]ename: N\n"
          ]
        }
      ],
      "source": [
        "!pip install --upgrade --no-cache-dir gdown\n",
        "!gdown --id 1aafE2nDp7S6j59sZcBIzP3FnQxVCmHCx\n",
        "!unzip real_hst.zip"
      ]
    },
    {
      "cell_type": "code",
      "execution_count": 27,
      "metadata": {
        "id": "9XieY6kDDDB-"
      },
      "outputs": [],
      "source": [
        "import os\n",
        "import numpy as np\n",
        "import matplotlib.pyplot as plt\n",
        "\n",
        "# Input and output directories\n",
        "input_folder = \"./real_hst\"\n",
        "output_folder = \"./output_folder\"\n",
        "\n",
        "# Output directories for classes\n",
        "nl_folder = os.path.join(output_folder, \"nl\")\n",
        "others_folder = os.path.join(output_folder, \"others\")\n",
        "os.makedirs(nl_folder, exist_ok=True)\n",
        "os.makedirs(others_folder, exist_ok=True)\n",
        "\n",
        "# Iterate through files in the input folder\n",
        "for filename in os.listdir(input_folder):\n",
        "    if filename.endswith(\".npy\"):\n",
        "        filepath = os.path.join(input_folder, filename)\n",
        "        # Load the numpy array\n",
        "        data = np.load(filepath)\n",
        "        # Determine class based on filename\n",
        "        if filename.startswith(\"nl\"):\n",
        "            class_folder = nl_folder\n",
        "        else:\n",
        "            class_folder = others_folder\n",
        "        # Convert array to image and save\n",
        "        img_path = os.path.join(class_folder, filename.replace(\".npy\", \".png\"))\n",
        "        plt.imsave(img_path, data, cmap='gray')  # Adjust colormap as needed\n"
      ]
    },
    {
      "cell_type": "markdown",
      "source": [
        "# Importing Libraries"
      ],
      "metadata": {
        "id": "Ylq3vo3i_KOg"
      }
    },
    {
      "cell_type": "code",
      "execution_count": 28,
      "metadata": {
        "id": "1yzEWqhIFfbV"
      },
      "outputs": [],
      "source": [
        "import torch\n",
        "import torch.nn as nn\n",
        "import torch.optim as optim\n",
        "from torch.optim import lr_scheduler\n",
        "import torch.backends.cudnn as cudnn\n",
        "import numpy as np\n",
        "import torchvision\n",
        "from torchvision import datasets, models, transforms\n",
        "import matplotlib.pyplot as plt\n",
        "import time\n",
        "import os\n",
        "import copy\n",
        "import random"
      ]
    },
    {
      "cell_type": "markdown",
      "source": [
        "# Seed value"
      ],
      "metadata": {
        "id": "OsWmFthe_O3I"
      }
    },
    {
      "cell_type": "code",
      "execution_count": 29,
      "metadata": {
        "id": "625q1cUXLdCE"
      },
      "outputs": [],
      "source": [
        "def set_seed(no):\n",
        "    torch.manual_seed(no)\n",
        "    random.seed(no)\n",
        "    np.random.seed(no)\n",
        "    os.environ['PYTHONHASHSEED'] = str()\n",
        "    torch.backends.cudnn.benchmark = False\n",
        "    torch.backends.cudnn.deterministic = True\n",
        "\n",
        "set_seed(100)"
      ]
    },
    {
      "cell_type": "code",
      "execution_count": 30,
      "metadata": {
        "colab": {
          "base_uri": "https://localhost:8080/"
        },
        "id": "C1faPJhAID3x",
        "outputId": "e210ab6a-d09e-40f4-d86a-8c4c3f8949f7"
      },
      "outputs": [
        {
          "output_type": "stream",
          "name": "stdout",
          "text": [
            "2.2.1+cu121\n"
          ]
        }
      ],
      "source": [
        "print(torch.__version__)"
      ]
    },
    {
      "cell_type": "markdown",
      "source": [
        "# Data preprocessing and making dataloaders"
      ],
      "metadata": {
        "id": "9TdOKp8Z_T1K"
      }
    },
    {
      "cell_type": "code",
      "execution_count": 31,
      "metadata": {
        "colab": {
          "base_uri": "https://localhost:8080/"
        },
        "id": "tX-5d8aBFMFs",
        "outputId": "2f6cfee4-a290-4247-b10e-7df5f2576ecd"
      },
      "outputs": [
        {
          "output_type": "stream",
          "name": "stderr",
          "text": [
            "/usr/local/lib/python3.10/dist-packages/torch/utils/data/dataloader.py:558: UserWarning: This DataLoader will create 4 worker processes in total. Our suggested max number of worker in current system is 2, which is smaller than what this DataLoader is going to create. Please be aware that excessive worker creation might get DataLoader running slow or even freeze, lower the worker number to avoid potential slowness/freeze if necessary.\n",
            "  warnings.warn(_create_warning_msg(\n"
          ]
        }
      ],
      "source": [
        "import os\n",
        "import torch\n",
        "from torchvision import datasets, transforms\n",
        "from torch.utils.data import DataLoader, Subset\n",
        "\n",
        "# Define data transformations\n",
        "data_transforms = transforms.Compose([\n",
        "    transforms.RandomResizedCrop(224),\n",
        "    transforms.RandomHorizontalFlip(),\n",
        "    transforms.ToTensor(),\n",
        "    transforms.Normalize([0.485, 0.456, 0.406], [0.229, 0.224, 0.225])\n",
        "])\n",
        "\n",
        "# Set the directory containing your data\n",
        "data_dir = './output_folder'\n",
        "\n",
        "# Use ImageFolder to load data\n",
        "image_dataset = datasets.ImageFolder(data_dir, transform=data_transforms)\n",
        "\n",
        "# Split the dataset into train and test sets (80% train, 20% test)\n",
        "train_size = int(0.1 * len(image_dataset))\n",
        "test_size = len(image_dataset) - train_size\n",
        "train_dataset, test_dataset = torch.utils.data.random_split(image_dataset, [train_size, test_size])\n",
        "\n",
        "# Create data loaders\n",
        "dataloaders = {\n",
        "    'train': DataLoader(train_dataset, batch_size=6, shuffle=True, num_workers=4),\n",
        "    'test': DataLoader(test_dataset, batch_size=6, shuffle=False, num_workers=4)\n",
        "}\n",
        "\n",
        "# Get class names\n",
        "class_names = image_dataset.classes\n",
        "\n",
        "# Get dataset sizes\n",
        "dataset_sizes = {'train': len(train_dataset), 'test': len(test_dataset)}\n",
        "\n",
        "# Use GPU if available\n",
        "device = torch.device(\"cuda:0\" if torch.cuda.is_available() else \"cpu\")\n"
      ]
    },
    {
      "cell_type": "code",
      "execution_count": 32,
      "metadata": {
        "colab": {
          "base_uri": "https://localhost:8080/"
        },
        "id": "ETyB-ag-GcWN",
        "outputId": "0b823e43-45f4-40b4-deca-8d34fc57db8c"
      },
      "outputs": [
        {
          "output_type": "execute_result",
          "data": {
            "text/plain": [
              "{'train': <torch.utils.data.dataloader.DataLoader at 0x7d12d5e7ece0>,\n",
              " 'test': <torch.utils.data.dataloader.DataLoader at 0x7d12d5e7f940>}"
            ]
          },
          "metadata": {},
          "execution_count": 32
        }
      ],
      "source": [
        "dataloaders"
      ]
    },
    {
      "cell_type": "markdown",
      "metadata": {
        "id": "NyaNnftEH278"
      },
      "source": [
        "# DINO Model\n"
      ]
    },
    {
      "cell_type": "code",
      "execution_count": 33,
      "metadata": {
        "colab": {
          "base_uri": "https://localhost:8080/"
        },
        "id": "bz4BJWf2H7I2",
        "outputId": "14969ab5-184c-4469-9cd5-6c03590a343b"
      },
      "outputs": [
        {
          "output_type": "stream",
          "name": "stderr",
          "text": [
            "Using cache found in /root/.cache/torch/hub/facebookresearch_dinov2_main\n"
          ]
        }
      ],
      "source": [
        "# load dino model\n",
        "dinov2_vits14 = torch.hub.load('facebookresearch/dinov2', 'dinov2_vits14')"
      ]
    },
    {
      "cell_type": "code",
      "execution_count": 34,
      "metadata": {
        "id": "UOuW0RPcH5Mf"
      },
      "outputs": [],
      "source": [
        "class DinoVisionTransformerClassifier(nn.Module):\n",
        "    def __init__(self):\n",
        "        super(DinoVisionTransformerClassifier, self).__init__()\n",
        "        self.transformer = dinov2_vits14\n",
        "        self.classifier = nn.Sequential(\n",
        "            nn.Linear(384, 256),\n",
        "            nn.ReLU(),\n",
        "            nn.Linear(256, 2)\n",
        "        )\n",
        "\n",
        "    def forward(self, x):\n",
        "        x = self.transformer(x)\n",
        "        x = self.transformer.norm(x)\n",
        "        x = self.classifier(x)\n",
        "        return x\n",
        "\n",
        "model = DinoVisionTransformerClassifier()"
      ]
    },
    {
      "cell_type": "markdown",
      "source": [
        "# ResNet Model"
      ],
      "metadata": {
        "id": "VZbqNzGF_mly"
      }
    },
    {
      "cell_type": "code",
      "execution_count": 35,
      "metadata": {
        "id": "q4mkAkptHuEp"
      },
      "outputs": [],
      "source": [
        "import torch.optim as optim\n",
        "\n",
        "model1 = models.resnet18(weights='IMAGENET1K_V1')\n",
        "num_ftrs = model1.fc.in_features\n",
        "model1.fc = nn.Linear(num_ftrs, 2)\n",
        "model1 = model1.to(device)\n",
        "\n",
        "criterion = nn.CrossEntropyLoss()\n",
        "# optimizer = optim.SGD(model.parameters(), lr=0.0001, momentum=0.9)\n",
        "optimizer = optim.Adam(model.parameters(), lr=0.000001)"
      ]
    },
    {
      "cell_type": "code",
      "execution_count": 36,
      "metadata": {
        "colab": {
          "base_uri": "https://localhost:8080/"
        },
        "id": "qA5rwAx5Ih9m",
        "outputId": "6e9cc4c7-f369-4f07-edc0-b525708469df"
      },
      "outputs": [
        {
          "output_type": "execute_result",
          "data": {
            "text/plain": [
              "4"
            ]
          },
          "metadata": {},
          "execution_count": 36
        }
      ],
      "source": [
        "len(dataloaders[\"train\"])"
      ]
    },
    {
      "cell_type": "code",
      "execution_count": 37,
      "metadata": {
        "id": "nJubpBSGJgHK"
      },
      "outputs": [],
      "source": [
        "model = model.to(device)"
      ]
    },
    {
      "cell_type": "markdown",
      "metadata": {
        "id": "E4cldJzNNgGX"
      },
      "source": [
        "# Training DINO"
      ]
    },
    {
      "cell_type": "code",
      "execution_count": 38,
      "metadata": {
        "colab": {
          "base_uri": "https://localhost:8080/"
        },
        "id": "jg78X2ffHC9Z",
        "outputId": "17eb43a9-bd5c-43d5-a27b-3684fd6a4588"
      },
      "outputs": [
        {
          "output_type": "stream",
          "name": "stdout",
          "text": [
            "Finished Training\n"
          ]
        }
      ],
      "source": [
        "for epoch in range(6):  # loop over the dataset multiple times\n",
        "\n",
        "    running_loss = 0.0\n",
        "    for i, data in enumerate(dataloaders[\"train\"], 0):\n",
        "        # get the inputs; data is a list of [inputs, labels]\n",
        "        inputs, labels = data\n",
        "\n",
        "        # zero the parameter gradients\n",
        "        optimizer.zero_grad()\n",
        "\n",
        "        # forward + backward + optimize\n",
        "        outputs = model(inputs.to(device))\n",
        "        loss = criterion(outputs, labels.to(device))\n",
        "        loss.backward()\n",
        "        optimizer.step()\n",
        "\n",
        "        # print statistics\n",
        "        running_loss += loss.item()\n",
        "        if i % 50 == 49:    # print every 2000 mini-batches\n",
        "            print(f'[{epoch + 1}, {i + 1:5d}] loss: {running_loss / 50:.3f}')\n",
        "            running_loss = 0.0\n",
        "\n",
        "print('Finished Training')"
      ]
    },
    {
      "cell_type": "markdown",
      "metadata": {
        "id": "e7GHOqmINdv5"
      },
      "source": [
        "# Testing DINO"
      ]
    },
    {
      "cell_type": "code",
      "execution_count": 62,
      "metadata": {
        "colab": {
          "base_uri": "https://localhost:8080/"
        },
        "id": "-N9x3KW6I8JF",
        "outputId": "d464136d-977d-44db-e8db-3440d36e41eb"
      },
      "outputs": [
        {
          "output_type": "stream",
          "name": "stderr",
          "text": [
            "/usr/local/lib/python3.10/dist-packages/torch/utils/data/dataloader.py:558: UserWarning: This DataLoader will create 4 worker processes in total. Our suggested max number of worker in current system is 2, which is smaller than what this DataLoader is going to create. Please be aware that excessive worker creation might get DataLoader running slow or even freeze, lower the worker number to avoid potential slowness/freeze if necessary.\n",
            "  warnings.warn(_create_warning_msg(\n"
          ]
        },
        {
          "output_type": "stream",
          "name": "stdout",
          "text": [
            "Accuracy of the network on the 198 test images: 69 %\n"
          ]
        }
      ],
      "source": [
        "correct = 0\n",
        "total = 0\n",
        "# since we're not training, we don't need to calculate the gradients for our outputs\n",
        "with torch.no_grad():\n",
        "    for data in dataloaders[\"test\"]:\n",
        "        images, labels = data\n",
        "        # calculate outputs by running images through the network\n",
        "        outputs = model(images.to(device))\n",
        "        # the class with the highest energy is what we choose as prediction\n",
        "        _, predicted = torch.max(outputs.data, 1)\n",
        "        total += labels.size(0)\n",
        "        correct += (predicted.to(\"cpu\") == labels).sum().item()\n",
        "\n",
        "print(f'Accuracy of the network on the {len(dataloaders[\"test\"])*6} test images: {100 * correct // total} %')"
      ]
    },
    {
      "cell_type": "markdown",
      "metadata": {
        "id": "v01LGzPiOMkU"
      },
      "source": [
        "# Resnet Training"
      ]
    },
    {
      "cell_type": "code",
      "execution_count": 40,
      "metadata": {
        "colab": {
          "base_uri": "https://localhost:8080/"
        },
        "id": "mOrr7ty8OL5c",
        "outputId": "0cea2bd8-a5f3-4d51-a1d8-adbbfd5567cc"
      },
      "outputs": [
        {
          "output_type": "stream",
          "name": "stdout",
          "text": [
            "Finished Training\n"
          ]
        }
      ],
      "source": [
        "model1 = model1.to(device)\n",
        "\n",
        "for epoch in range(6):  # loop over the dataset multiple times\n",
        "\n",
        "    running_loss = 0.0\n",
        "    for i, data in enumerate(dataloaders[\"train\"], 0):\n",
        "        # get the inputs; data is a list of [inputs, labels]\n",
        "        inputs, labels = data\n",
        "\n",
        "        # zero the parameter gradients\n",
        "        optimizer.zero_grad()\n",
        "\n",
        "        # forward + backward + optimize\n",
        "        outputs = model1(inputs.to(device))\n",
        "        loss = criterion(outputs, labels.to(device))\n",
        "        loss.backward()\n",
        "        optimizer.step()\n",
        "\n",
        "        # print statistics\n",
        "        running_loss += loss.item()\n",
        "        if i % 50 == 49:    # print every 2000 mini-batches\n",
        "            print(f'[{epoch + 1}, {i + 1:5d}] loss: {running_loss / 50:.3f}')\n",
        "            running_loss = 0.0\n",
        "\n",
        "print('Finished Training')"
      ]
    },
    {
      "cell_type": "markdown",
      "source": [
        "# ResNet Testing"
      ],
      "metadata": {
        "id": "p3lgqE1y_3KB"
      }
    },
    {
      "cell_type": "code",
      "execution_count": 41,
      "metadata": {
        "colab": {
          "base_uri": "https://localhost:8080/"
        },
        "id": "p3CXNKijOZQE",
        "outputId": "25d7f3d6-c88c-4cf5-b1e3-bc0dfc3d3810"
      },
      "outputs": [
        {
          "output_type": "stream",
          "name": "stdout",
          "text": [
            "Accuracy of the network on the 198 test images: 43 %\n"
          ]
        }
      ],
      "source": [
        "correct = 0\n",
        "total = 0\n",
        "# since we're not training, we don't need to calculate the gradients for our outputs\n",
        "with torch.no_grad():\n",
        "    for data in dataloaders[\"test\"]:\n",
        "        images, labels = data\n",
        "        # calculate outputs by running images through the network\n",
        "        outputs = model1(images.to(device))\n",
        "        # the class with the highest energy is what we choose as prediction\n",
        "        _, predicted = torch.max(outputs.data, 1)\n",
        "        total += labels.size(0)\n",
        "        correct += (predicted.to(\"cpu\") == labels).sum().item()\n",
        "\n",
        "print(f'Accuracy of the network on the {len(dataloaders[\"test\"])*6} test images: {100 * correct // total} %')"
      ]
    },
    {
      "cell_type": "markdown",
      "source": [
        "# ROC Curve and AUC score for DINO classification"
      ],
      "metadata": {
        "id": "Sr3fTu6x87fz"
      }
    },
    {
      "cell_type": "code",
      "source": [
        "import torch\n",
        "import torch.nn as nn\n",
        "import torch.optim as optim\n",
        "from torchvision import datasets, transforms\n",
        "from torch.utils.data import DataLoader\n",
        "from sklearn.metrics import roc_curve, auc\n",
        "import matplotlib.pyplot as plt\n",
        "\n",
        "# Assuming you have your DataLoader already defined (dataloaders['test'])\n",
        "# Assuming you have your model already defined (DinoVisionTransformerClassifier)\n",
        "\n",
        "# Set device\n",
        "device = torch.device(\"cuda:0\" if torch.cuda.is_available() else \"cpu\")\n",
        "\n",
        "# Evaluation mode\n",
        "model.eval()\n",
        "\n",
        "# Lists to store true labels and predicted probabilities\n",
        "true_labels = []\n",
        "predicted_probs = []\n",
        "\n",
        "# Loop through the test dataset to get true labels and predicted probabilities\n",
        "with torch.no_grad():\n",
        "    for inputs, labels in dataloaders['test']:\n",
        "        inputs, labels = inputs.to(device), labels.to(device)\n",
        "        outputs = model(inputs)\n",
        "        probabilities = torch.softmax(outputs, dim=1)[:, 1]  # Probabilities for class 1 (assuming binary classification)\n",
        "        true_labels.extend(labels.cpu().numpy())\n",
        "        predicted_probs.extend(probabilities.cpu().numpy())\n",
        "\n",
        "# Convert lists to numpy arrays\n",
        "true_labels = np.array(true_labels)\n",
        "predicted_probs = np.array(predicted_probs)\n",
        "\n",
        "# Calculate ROC curve\n",
        "fpr, tpr, thresholds = roc_curve(true_labels, predicted_probs)\n",
        "\n",
        "# Calculate AUC score\n",
        "auc_score = auc(fpr, tpr)\n",
        "\n",
        "# Plot ROC curve\n",
        "plt.figure(figsize=(8, 6))\n",
        "plt.plot(fpr, tpr, color='b', lw=2, label=f'AUC = {auc_score:.2f}')\n",
        "plt.plot([0, 1], [0, 1], color='r', linestyle='--')\n",
        "plt.xlim([0.0, 1.0])\n",
        "plt.ylim([0.0, 1.05])\n",
        "plt.xlabel('False Positive Rate')\n",
        "plt.ylabel('True Positive Rate')\n",
        "plt.title('Receiver Operating Characteristic (ROC) Curve')\n",
        "plt.legend(loc='lower right')\n",
        "plt.show()\n",
        "\n",
        "# Print AUC score\n",
        "print(f'AUC Score: {auc_score}')"
      ],
      "metadata": {
        "colab": {
          "base_uri": "https://localhost:8080/",
          "height": 636
        },
        "id": "W4QEe78W8W2C",
        "outputId": "48c4238c-3e27-4c2e-c35f-3e537ce960af"
      },
      "execution_count": 60,
      "outputs": [
        {
          "output_type": "stream",
          "name": "stderr",
          "text": [
            "/usr/local/lib/python3.10/dist-packages/torch/utils/data/dataloader.py:558: UserWarning: This DataLoader will create 4 worker processes in total. Our suggested max number of worker in current system is 2, which is smaller than what this DataLoader is going to create. Please be aware that excessive worker creation might get DataLoader running slow or even freeze, lower the worker number to avoid potential slowness/freeze if necessary.\n",
            "  warnings.warn(_create_warning_msg(\n"
          ]
        },
        {
          "output_type": "display_data",
          "data": {
            "text/plain": [
              "<Figure size 800x600 with 1 Axes>"
            ],
            "image/png": "[encoded data removed]"
          },
          "metadata": {}
        },
        {
          "output_type": "stream",
          "name": "stdout",
          "text": [
            "AUC Score: 0.712603519668737\n"
          ]
        }
      ]
    },
    {
      "cell_type": "markdown",
      "source": [
        "# Self-Supervised Learning (DINO) v/s Supervised Learning (ResNet)"
      ],
      "metadata": {
        "id": "lau2Xw_7_8Zl"
      }
    },
    {
      "cell_type": "code",
      "source": [
        "import torch\n",
        "import torch.nn as nn\n",
        "import torch.optim as optim\n",
        "from torchvision import models, transforms\n",
        "from torch.utils.data import DataLoader\n",
        "from sklearn.metrics import roc_curve, auc\n",
        "import matplotlib.pyplot as plt\n",
        "\n",
        "# Assuming you have the true labels and test dataloaders for both models\n",
        "# Assuming you have defined model and model1 previously\n",
        "\n",
        "# Set device\n",
        "device = torch.device(\"cuda:0\" if torch.cuda.is_available() else \"cpu\")\n",
        "\n",
        "# Evaluation mode\n",
        "model.eval()\n",
        "model1.eval()\n",
        "\n",
        "# Lists to store true labels and predicted probabilities for both models\n",
        "true_labels = []\n",
        "predicted_probs = []\n",
        "predicted_probs1 = []\n",
        "\n",
        "# Loop through the test dataset for both models to get true labels and predicted probabilities\n",
        "with torch.no_grad():\n",
        "    for inputs, labels in dataloaders['test']:\n",
        "        inputs, labels = inputs.to(device), labels.to(device)\n",
        "        outputs = model(inputs)\n",
        "        probabilities = torch.softmax(outputs, dim=1)[:, 1]  # Probabilities for class 1 (assuming binary classification)\n",
        "        true_labels.extend(labels.cpu().numpy())\n",
        "        predicted_probs.extend(probabilities.cpu().numpy())\n",
        "\n",
        "        outputs1 = model1(inputs)\n",
        "        probabilities1 = torch.softmax(outputs1, dim=1)[:, 1]  # Probabilities for class 1 (assuming binary classification)\n",
        "        predicted_probs1.extend(probabilities1.cpu().numpy())\n",
        "\n",
        "# Convert lists to numpy arrays\n",
        "true_labels = np.array(true_labels)\n",
        "predicted_probs = np.array(predicted_probs)\n",
        "predicted_probs1 = np.array(predicted_probs1)\n",
        "\n",
        "# Calculate ROC curve and AUC for both models\n",
        "fpr, tpr, thresholds = roc_curve(true_labels, predicted_probs)\n",
        "auc_score = auc(fpr, tpr)\n",
        "\n",
        "fpr1, tpr1, thresholds1 = roc_curve(true_labels, predicted_probs1)\n",
        "auc_score1 = auc(fpr1, tpr1)\n",
        "\n",
        "# Plot ROC curves for both models\n",
        "plt.figure(figsize=(8, 6))\n",
        "plt.plot(fpr, tpr, color='b', lw=2, label=f'Dino (AUC = {auc_score:.2f})')\n",
        "plt.plot(fpr1, tpr1, color='r', lw=2, label=f'ResNet (AUC = {auc_score1:.2f})')\n",
        "plt.plot([0, 1], [0, 1], color='gray', linestyle='--')\n",
        "plt.xlim([0.0, 1.0])\n",
        "plt.ylim([0.0, 1.05])\n",
        "plt.xlabel('False Positive Rate')\n",
        "plt.ylabel('True Positive Rate')\n",
        "plt.title('Receiver Operating Characteristic (ROC) Curve')\n",
        "plt.legend(loc='lower right')\n",
        "plt.show()\n",
        "print(\"DINO AUC score: \",auc_score)\n",
        "print(\"ResNet AUC score: \",auc_score1)"
      ],
      "metadata": {
        "colab": {
          "base_uri": "https://localhost:8080/",
          "height": 653
        },
        "id": "5ze30qOK9nVt",
        "outputId": "c6aae1d2-485d-42a9-df7a-30fb17ac075e"
      },
      "execution_count": 65,
      "outputs": [
        {
          "output_type": "stream",
          "name": "stderr",
          "text": [
            "/usr/local/lib/python3.10/dist-packages/torch/utils/data/dataloader.py:558: UserWarning: This DataLoader will create 4 worker processes in total. Our suggested max number of worker in current system is 2, which is smaller than what this DataLoader is going to create. Please be aware that excessive worker creation might get DataLoader running slow or even freeze, lower the worker number to avoid potential slowness/freeze if necessary.\n",
            "  warnings.warn(_create_warning_msg(\n"
          ]
        },
        {
          "output_type": "display_data",
          "data": {
            "text/plain": [
              "<Figure size 800x600 with 1 Axes>"
            ],
            "image/png": "[encoded data removed]"
          },
          "metadata": {}
        },
        {
          "output_type": "stream",
          "name": "stdout",
          "text": [
            "DINO AUC score:  0.704192546583851\n",
            "ResNet AUC score:  0.46312111801242234\n"
          ]
        }
      ]
    },
    {
      "cell_type": "markdown",
      "source": [
        "Saving Weights"
      ],
      "metadata": {
        "id": "baJIPhj9-pji"
      }
    },
    {
      "cell_type": "code",
      "source": [
        "# Save the state_dict of the Dino model\n",
        "torch.save(model.state_dict(), 'dino_model_weights.pth')\n"
      ],
      "metadata": {
        "id": "ygK8ZnPA-owu"
      },
      "execution_count": 44,
      "outputs": []
    },
    {
      "cell_type": "code",
      "execution_count": 45,
      "metadata": {
        "colab": {
          "base_uri": "https://localhost:8080/"
        },
        "id": "wTh86MY7PizA",
        "outputId": "35365046-6199-4504-cf30-60704bbaf764"
      },
      "outputs": [
        {
          "output_type": "execute_result",
          "data": {
            "text/plain": [
              "84"
            ]
          },
          "metadata": {},
          "execution_count": 45
        }
      ],
      "source": [
        "correct"
      ]
    },
    {
      "cell_type": "code",
      "execution_count": 46,
      "metadata": {
        "colab": {
          "base_uri": "https://localhost:8080/"
        },
        "id": "bl511gK5PjSd",
        "outputId": "19f51093-3e7e-413d-8197-98dfc2b5b264"
      },
      "outputs": [
        {
          "output_type": "execute_result",
          "data": {
            "text/plain": [
              "194"
            ]
          },
          "metadata": {},
          "execution_count": 46
        }
      ],
      "source": [
        "total"
      ]
    }
  ],
  "metadata": {
    "accelerator": "GPU",
    "colab": {
      "gpuType": "T4",
      "provenance": [],
      "include_colab_link": true
    },
    "gpuClass": "standard",
    "kernelspec": {
      "display_name": "Python 3 (ipykernel)",
      "language": "python",
      "name": "python3"
    },
    "language_info": {
      "codemirror_mode": {
        "name": "ipython",
        "version": 3
      },
      "file_extension": ".py",
      "mimetype": "text/x-python",
      "name": "python",
      "nbconvert_exporter": "python",
      "pygments_lexer": "ipython3",
      "version": "3.8.10"
    }
  },
  "nbformat": 4,
  "nbformat_minor": 0
}