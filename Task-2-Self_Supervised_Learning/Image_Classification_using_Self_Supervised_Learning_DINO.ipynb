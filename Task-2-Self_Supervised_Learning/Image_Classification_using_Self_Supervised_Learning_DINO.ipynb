{
  "cells": [
    {
      "cell_type": "markdown",
      "metadata": {
        "id": "view-in-github",
        "colab_type": "text"
      },
      "source": [
        "<a href=\"https://colab.research.google.com/github/Atharv-16/GSOC/blob/main/Task-2-Self_Supervised_Learning/Image_Classification_using_Self_Supervised_Learning_DINO.ipynb\" target=\"_parent\"><img src=\"https://colab.research.google.com/assets/colab-badge.svg\" alt=\"Open In Colab\"/></a>"
      ]
    },
    {
      "cell_type": "markdown",
      "source": [
        "# Downloading and extracting dataset"
      ],
      "metadata": {
        "id": "lhNc202t_Czv"
      }
    },
    {
      "cell_type": "code",
      "execution_count": 70,
      "metadata": {
        "colab": {
          "base_uri": "https://localhost:8080/"
        },
        "id": "RyvWhfQ1Cvhs",
        "outputId": "9802fb43-2a7b-49b4-f599-d64e36c0eb6d"
      },
      "outputs": [
        {
          "output_type": "stream",
          "name": "stdout",
          "text": [
            "Requirement already satisfied: gdown in /usr/local/lib/python3.10/dist-packages (5.1.0)\n",
            "Requirement already satisfied: beautifulsoup4 in /usr/local/lib/python3.10/dist-packages (from gdown) (4.12.3)\n",
            "Requirement already satisfied: filelock in /usr/local/lib/python3.10/dist-packages (from gdown) (3.13.3)\n",
            "Requirement already satisfied: requests[socks] in /usr/local/lib/python3.10/dist-packages (from gdown) (2.31.0)\n",
            "Requirement already satisfied: tqdm in /usr/local/lib/python3.10/dist-packages (from gdown) (4.66.2)\n",
            "Requirement already satisfied: soupsieve>1.2 in /usr/local/lib/python3.10/dist-packages (from beautifulsoup4->gdown) (2.5)\n",
            "Requirement already satisfied: charset-normalizer<4,>=2 in /usr/local/lib/python3.10/dist-packages (from requests[socks]->gdown) (3.3.2)\n",
            "Requirement already satisfied: idna<4,>=2.5 in /usr/local/lib/python3.10/dist-packages (from requests[socks]->gdown) (3.6)\n",
            "Requirement already satisfied: urllib3<3,>=1.21.1 in /usr/local/lib/python3.10/dist-packages (from requests[socks]->gdown) (2.0.7)\n",
            "Requirement already satisfied: certifi>=2017.4.17 in /usr/local/lib/python3.10/dist-packages (from requests[socks]->gdown) (2024.2.2)\n",
            "Requirement already satisfied: PySocks!=1.5.7,>=1.5.6 in /usr/local/lib/python3.10/dist-packages (from requests[socks]->gdown) (1.7.1)\n",
            "/usr/local/lib/python3.10/dist-packages/gdown/__main__.py:132: FutureWarning: Option `--id` was deprecated in version 4.3.1 and will be removed in 5.0. You don't need to pass it anymore to use a file ID.\n",
            "  warnings.warn(\n",
            "Downloading...\n",
            "From (original): https://drive.google.com/uc?id=1aafE2nDp7S6j59sZcBIzP3FnQxVCmHCx\n",
            "From (redirected): https://drive.google.com/uc?id=1aafE2nDp7S6j59sZcBIzP3FnQxVCmHCx&confirm=t&uuid=c39a8214-4eb6-44df-9a8c-9cdb6d83eb74\n",
            "To: /content/real_hst.zip\n",
            "100% 80.5M/80.5M [00:00<00:00, 191MB/s]\n",
            "Archive:  real_hst.zip\n",
            "replace real_hst/nl_269_hst.npy? [y]es, [n]o, [A]ll, [N]one, [r]ename: N\n"
          ]
        }
      ],
      "source": [
        "!pip install --upgrade --no-cache-dir gdown\n",
        "!gdown --id 1aafE2nDp7S6j59sZcBIzP3FnQxVCmHCx\n",
        "!unzip real_hst.zip"
      ]
    },
    {
      "cell_type": "code",
      "execution_count": 71,
      "metadata": {
        "id": "9XieY6kDDDB-"
      },
      "outputs": [],
      "source": [
        "import os\n",
        "import numpy as np\n",
        "import matplotlib.pyplot as plt\n",
        "\n",
        "# Input and output directories\n",
        "input_folder = \"./real_hst\"\n",
        "output_folder = \"./output_folder\"\n",
        "\n",
        "# Output directories for classes\n",
        "nl_folder = os.path.join(output_folder, \"nl\")\n",
        "others_folder = os.path.join(output_folder, \"others\")\n",
        "os.makedirs(nl_folder, exist_ok=True)\n",
        "os.makedirs(others_folder, exist_ok=True)\n",
        "\n",
        "# Iterate through files in the input folder\n",
        "for filename in os.listdir(input_folder):\n",
        "    if filename.endswith(\".npy\"):\n",
        "        filepath = os.path.join(input_folder, filename)\n",
        "        # Load the numpy array\n",
        "        data = np.load(filepath)\n",
        "        # Determine class based on filename\n",
        "        if filename.startswith(\"nl\"):\n",
        "            class_folder = nl_folder\n",
        "        else:\n",
        "            class_folder = others_folder\n",
        "        # Convert array to image and save\n",
        "        img_path = os.path.join(class_folder, filename.replace(\".npy\", \".png\"))\n",
        "        plt.imsave(img_path, data, cmap='gray')  # Adjust colormap as needed\n"
      ]
    },
    {
      "cell_type": "markdown",
      "source": [
        "# Importing Libraries"
      ],
      "metadata": {
        "id": "Ylq3vo3i_KOg"
      }
    },
    {
      "cell_type": "code",
      "execution_count": 72,
      "metadata": {
        "id": "1yzEWqhIFfbV"
      },
      "outputs": [],
      "source": [
        "import torch\n",
        "import torch.nn as nn\n",
        "import torch.optim as optim\n",
        "from torch.optim import lr_scheduler\n",
        "import torch.backends.cudnn as cudnn\n",
        "import numpy as np\n",
        "import torchvision\n",
        "from torchvision import datasets, models, transforms\n",
        "import matplotlib.pyplot as plt\n",
        "import time\n",
        "import os\n",
        "import copy\n",
        "import random"
      ]
    },
    {
      "cell_type": "markdown",
      "source": [
        "# Seed value"
      ],
      "metadata": {
        "id": "OsWmFthe_O3I"
      }
    },
    {
      "cell_type": "code",
      "execution_count": 73,
      "metadata": {
        "id": "625q1cUXLdCE"
      },
      "outputs": [],
      "source": [
        "def set_seed(no):\n",
        "    torch.manual_seed(no)\n",
        "    random.seed(no)\n",
        "    np.random.seed(no)\n",
        "    os.environ['PYTHONHASHSEED'] = str()\n",
        "    torch.backends.cudnn.benchmark = False\n",
        "    torch.backends.cudnn.deterministic = True\n",
        "\n",
        "set_seed(100)"
      ]
    },
    {
      "cell_type": "code",
      "execution_count": 74,
      "metadata": {
        "colab": {
          "base_uri": "https://localhost:8080/"
        },
        "id": "C1faPJhAID3x",
        "outputId": "7bbc8349-8c70-4995-8a1f-7931adb9b4df"
      },
      "outputs": [
        {
          "output_type": "stream",
          "name": "stdout",
          "text": [
            "2.2.1+cu121\n"
          ]
        }
      ],
      "source": [
        "print(torch.__version__)"
      ]
    },
    {
      "cell_type": "markdown",
      "source": [
        "# Data preprocessing and making dataloaders"
      ],
      "metadata": {
        "id": "9TdOKp8Z_T1K"
      }
    },
    {
      "cell_type": "code",
      "execution_count": 75,
      "metadata": {
        "colab": {
          "base_uri": "https://localhost:8080/"
        },
        "id": "tX-5d8aBFMFs",
        "outputId": "06e640d5-9f8a-4ef5-d364-9c11a22f3fe0"
      },
      "outputs": [
        {
          "output_type": "stream",
          "name": "stderr",
          "text": [
            "/usr/local/lib/python3.10/dist-packages/torch/utils/data/dataloader.py:558: UserWarning: This DataLoader will create 4 worker processes in total. Our suggested max number of worker in current system is 2, which is smaller than what this DataLoader is going to create. Please be aware that excessive worker creation might get DataLoader running slow or even freeze, lower the worker number to avoid potential slowness/freeze if necessary.\n",
            "  warnings.warn(_create_warning_msg(\n"
          ]
        }
      ],
      "source": [
        "import os\n",
        "import torch\n",
        "from torchvision import datasets, transforms\n",
        "from torch.utils.data import DataLoader, Subset\n",
        "\n",
        "# Define data transformations\n",
        "data_transforms = transforms.Compose([\n",
        "    transforms.RandomResizedCrop(224),\n",
        "    transforms.RandomHorizontalFlip(),\n",
        "    transforms.ToTensor(),\n",
        "    transforms.Normalize([0.485, 0.456, 0.406], [0.229, 0.224, 0.225])\n",
        "])\n",
        "\n",
        "# Set the directory containing your data\n",
        "data_dir = './output_folder'\n",
        "\n",
        "# Use ImageFolder to load data\n",
        "image_dataset = datasets.ImageFolder(data_dir, transform=data_transforms)\n",
        "\n",
        "# Split the dataset into train and test sets (80% train, 20% test)\n",
        "train_size = int(0.1 * len(image_dataset))\n",
        "test_size = len(image_dataset) - train_size\n",
        "train_dataset, test_dataset = torch.utils.data.random_split(image_dataset, [train_size, test_size])\n",
        "\n",
        "# Create data loaders\n",
        "dataloaders = {\n",
        "    'train': DataLoader(train_dataset, batch_size=6, shuffle=True, num_workers=4),\n",
        "    'test': DataLoader(test_dataset, batch_size=6, shuffle=False, num_workers=4)\n",
        "}\n",
        "\n",
        "# Get class names\n",
        "class_names = image_dataset.classes\n",
        "\n",
        "# Get dataset sizes\n",
        "dataset_sizes = {'train': len(train_dataset), 'test': len(test_dataset)}\n",
        "\n",
        "# Use GPU if available\n",
        "device = torch.device(\"cuda:0\" if torch.cuda.is_available() else \"cpu\")\n"
      ]
    },
    {
      "cell_type": "code",
      "execution_count": 76,
      "metadata": {
        "colab": {
          "base_uri": "https://localhost:8080/"
        },
        "id": "ETyB-ag-GcWN",
        "outputId": "c579fd7a-267d-4035-8161-93f4020f9037"
      },
      "outputs": [
        {
          "output_type": "execute_result",
          "data": {
            "text/plain": [
              "{'train': <torch.utils.data.dataloader.DataLoader at 0x7d11f7efcf40>,\n",
              " 'test': <torch.utils.data.dataloader.DataLoader at 0x7d11f7e11b40>}"
            ]
          },
          "metadata": {},
          "execution_count": 76
        }
      ],
      "source": [
        "dataloaders"
      ]
    },
    {
      "cell_type": "markdown",
      "metadata": {
        "id": "NyaNnftEH278"
      },
      "source": [
        "# DINO Model\n"
      ]
    },
    {
      "cell_type": "code",
      "execution_count": 77,
      "metadata": {
        "colab": {
          "base_uri": "https://localhost:8080/"
        },
        "id": "bz4BJWf2H7I2",
        "outputId": "f9b12467-c05f-465e-9d2f-2640ebc87e6e"
      },
      "outputs": [
        {
          "output_type": "stream",
          "name": "stderr",
          "text": [
            "Using cache found in /root/.cache/torch/hub/facebookresearch_dinov2_main\n"
          ]
        }
      ],
      "source": [
        "# load dino model\n",
        "dinov2_vits14 = torch.hub.load('facebookresearch/dinov2', 'dinov2_vits14')"
      ]
    },
    {
      "cell_type": "code",
      "execution_count": 78,
      "metadata": {
        "id": "UOuW0RPcH5Mf"
      },
      "outputs": [],
      "source": [
        "class DinoVisionTransformerClassifier(nn.Module):\n",
        "    def __init__(self):\n",
        "        super(DinoVisionTransformerClassifier, self).__init__()\n",
        "        self.transformer = dinov2_vits14\n",
        "        self.classifier = nn.Sequential(\n",
        "            nn.Linear(384, 256),\n",
        "            nn.ReLU(),\n",
        "            nn.Linear(256, 2)\n",
        "        )\n",
        "\n",
        "    def forward(self, x):\n",
        "        x = self.transformer(x)\n",
        "        x = self.transformer.norm(x)\n",
        "        x = self.classifier(x)\n",
        "        return x\n",
        "\n",
        "model = DinoVisionTransformerClassifier()"
      ]
    },
    {
      "cell_type": "markdown",
      "source": [
        "# ResNet Model"
      ],
      "metadata": {
        "id": "VZbqNzGF_mly"
      }
    },
    {
      "cell_type": "code",
      "execution_count": 79,
      "metadata": {
        "id": "q4mkAkptHuEp"
      },
      "outputs": [],
      "source": [
        "import torch.optim as optim\n",
        "\n",
        "model1 = models.resnet18(weights='IMAGENET1K_V1')\n",
        "num_ftrs = model1.fc.in_features\n",
        "model1.fc = nn.Linear(num_ftrs, 2)\n",
        "model1 = model1.to(device)\n",
        "\n",
        "criterion = nn.CrossEntropyLoss()\n",
        "# optimizer = optim.SGD(model.parameters(), lr=0.0001, momentum=0.9)\n",
        "optimizer = optim.Adam(model.parameters(), lr=0.000001)"
      ]
    },
    {
      "cell_type": "code",
      "execution_count": 80,
      "metadata": {
        "colab": {
          "base_uri": "https://localhost:8080/"
        },
        "id": "qA5rwAx5Ih9m",
        "outputId": "1768340d-5668-47f1-c93b-1c02f85cf311"
      },
      "outputs": [
        {
          "output_type": "execute_result",
          "data": {
            "text/plain": [
              "4"
            ]
          },
          "metadata": {},
          "execution_count": 80
        }
      ],
      "source": [
        "len(dataloaders[\"train\"])"
      ]
    },
    {
      "cell_type": "code",
      "execution_count": 81,
      "metadata": {
        "id": "nJubpBSGJgHK"
      },
      "outputs": [],
      "source": [
        "model = model.to(device)"
      ]
    },
    {
      "cell_type": "markdown",
      "metadata": {
        "id": "E4cldJzNNgGX"
      },
      "source": [
        "# Training DINO"
      ]
    },
    {
      "cell_type": "code",
      "execution_count": 82,
      "metadata": {
        "colab": {
          "base_uri": "https://localhost:8080/"
        },
        "id": "jg78X2ffHC9Z",
        "outputId": "040c1811-c8e9-42b1-ab08-20b5184ca662"
      },
      "outputs": [
        {
          "output_type": "stream",
          "name": "stdout",
          "text": [
            "Finished Training\n"
          ]
        }
      ],
      "source": [
        "for epoch in range(6):  # loop over the dataset multiple times\n",
        "\n",
        "    running_loss = 0.0\n",
        "    for i, data in enumerate(dataloaders[\"train\"], 0):\n",
        "        # get the inputs; data is a list of [inputs, labels]\n",
        "        inputs, labels = data\n",
        "\n",
        "        # zero the parameter gradients\n",
        "        optimizer.zero_grad()\n",
        "\n",
        "        # forward + backward + optimize\n",
        "        outputs = model(inputs.to(device))\n",
        "        loss = criterion(outputs, labels.to(device))\n",
        "        loss.backward()\n",
        "        optimizer.step()\n",
        "\n",
        "        # print statistics\n",
        "        running_loss += loss.item()\n",
        "        if i % 50 == 49:    # print every 2000 mini-batches\n",
        "            print(f'[{epoch + 1}, {i + 1:5d}] loss: {running_loss / 50:.3f}')\n",
        "            running_loss = 0.0\n",
        "\n",
        "print('Finished Training')"
      ]
    },
    {
      "cell_type": "markdown",
      "metadata": {
        "id": "e7GHOqmINdv5"
      },
      "source": [
        "# Testing DINO"
      ]
    },
    {
      "cell_type": "code",
      "execution_count": 83,
      "metadata": {
        "colab": {
          "base_uri": "https://localhost:8080/"
        },
        "id": "-N9x3KW6I8JF",
        "outputId": "a1574544-5cb1-4edb-ca67-d90a00a249ba"
      },
      "outputs": [
        {
          "output_type": "stream",
          "name": "stdout",
          "text": [
            "Accuracy of the network on the 198 test images: 68 %\n"
          ]
        }
      ],
      "source": [
        "correct = 0\n",
        "total = 0\n",
        "predicted_probs = []\n",
        "true_labels = []\n",
        "# since we're not training, we don't need to calculate the gradients for our outputs\n",
        "with torch.no_grad():\n",
        "    for data in dataloaders[\"test\"]:\n",
        "        images, labels = data\n",
        "        # calculate outputs by running images through the network\n",
        "        outputs = model(images.to(device))\n",
        "        probabilities = torch.softmax(outputs, dim=1)[:, 1]  # Probabilities for class 1 (assuming binary classification)\n",
        "        _, predicted = torch.max(outputs.data, 1)\n",
        "        predicted_probs.extend(probabilities.cpu().numpy())\n",
        "        true_labels.extend(labels.cpu().numpy())\n",
        "        total += labels.size(0)\n",
        "        correct += (predicted.to(\"cpu\") == labels).sum().item()\n",
        "\n",
        "# Convert lists to numpy arrays\n",
        "true_labels = np.array(true_labels)\n",
        "predicted_probs = np.array(predicted_probs)\n",
        "print(f'Accuracy of the network on the {len(dataloaders[\"test\"])*6} test images: {100 * correct // total} %')"
      ]
    },
    {
      "cell_type": "markdown",
      "metadata": {
        "id": "v01LGzPiOMkU"
      },
      "source": [
        "# Resnet Training"
      ]
    },
    {
      "cell_type": "code",
      "execution_count": 84,
      "metadata": {
        "colab": {
          "base_uri": "https://localhost:8080/"
        },
        "id": "mOrr7ty8OL5c",
        "outputId": "94700044-3f49-4f52-e2eb-afdab82ccd9c"
      },
      "outputs": [
        {
          "output_type": "stream",
          "name": "stdout",
          "text": [
            "Finished Training\n"
          ]
        }
      ],
      "source": [
        "model1 = model1.to(device)\n",
        "\n",
        "for epoch in range(6):  # loop over the dataset multiple times\n",
        "\n",
        "    running_loss = 0.0\n",
        "    for i, data in enumerate(dataloaders[\"train\"], 0):\n",
        "        # get the inputs; data is a list of [inputs, labels]\n",
        "        inputs, labels = data\n",
        "\n",
        "        # zero the parameter gradients\n",
        "        optimizer.zero_grad()\n",
        "\n",
        "        # forward + backward + optimize\n",
        "        outputs = model1(inputs.to(device))\n",
        "        loss = criterion(outputs, labels.to(device))\n",
        "        loss.backward()\n",
        "        optimizer.step()\n",
        "\n",
        "        # print statistics\n",
        "        running_loss += loss.item()\n",
        "        if i % 50 == 49:    # print every 2000 mini-batches\n",
        "            print(f'[{epoch + 1}, {i + 1:5d}] loss: {running_loss / 50:.3f}')\n",
        "            running_loss = 0.0\n",
        "\n",
        "print('Finished Training')"
      ]
    },
    {
      "cell_type": "markdown",
      "source": [
        "# ResNet Testing"
      ],
      "metadata": {
        "id": "p3lgqE1y_3KB"
      }
    },
    {
      "cell_type": "code",
      "execution_count": 85,
      "metadata": {
        "colab": {
          "base_uri": "https://localhost:8080/"
        },
        "id": "p3CXNKijOZQE",
        "outputId": "fb881763-fbf1-47f4-f54d-3ae953b6f6ea"
      },
      "outputs": [
        {
          "output_type": "stream",
          "name": "stdout",
          "text": [
            "Accuracy of the network on the 198 test images: 43 %\n"
          ]
        }
      ],
      "source": [
        "correct1 = 0\n",
        "total1 = 0\n",
        "predicted_probs1 = []\n",
        "true_labels1 = []\n",
        "# since we're not training, we don't need to calculate the gradients for our outputs\n",
        "with torch.no_grad():\n",
        "    for data in dataloaders[\"test\"]:\n",
        "        images, labels = data\n",
        "        # calculate outputs by running images through the network\n",
        "        outputs = model1(images.to(device))\n",
        "        probabilities = torch.softmax(outputs, dim=1)[:, 1]  # Probabilities for class 1 (assuming binary classification)\n",
        "        _, predicted = torch.max(outputs.data, 1)\n",
        "        predicted_probs1.extend(probabilities.cpu().numpy())\n",
        "        true_labels1.extend(labels.cpu().numpy())\n",
        "        total1 += labels.size(0)\n",
        "        correct1 += (predicted.to(\"cpu\") == labels).sum().item()\n",
        "\n",
        "# Convert lists to numpy arrays\n",
        "true_labels1 = np.array(true_labels1)\n",
        "predicted_probs1 = np.array(predicted_probs1)\n",
        "print(f'Accuracy of the network on the {len(dataloaders[\"test\"])*6} test images: {100 * correct1 // total1} %')"
      ]
    },
    {
      "cell_type": "markdown",
      "source": [
        "# Self-Supervised Learning (DINO) v/s Supervised Learning (ResNet)"
      ],
      "metadata": {
        "id": "lau2Xw_7_8Zl"
      }
    },
    {
      "cell_type": "code",
      "source": [
        "# Use the true labels and predicted probabilities obtained from previous testing\n",
        "# Calculate ROC curve and AUC for both models\n",
        "fpr, tpr, thresholds = roc_curve(true_labels, predicted_probs)\n",
        "auc_score = auc(fpr, tpr)\n",
        "\n",
        "fpr1, tpr1, thresholds1 = roc_curve(true_labels, predicted_probs1)\n",
        "auc_score1 = auc(fpr1, tpr1)\n",
        "\n",
        "# Plot ROC curves for both models\n",
        "plt.figure(figsize=(8, 6))\n",
        "plt.plot(fpr, tpr, color='b', lw=2, label=f'Dino (AUC = {auc_score:.2f})')\n",
        "plt.plot(fpr1, tpr1, color='r', lw=2, label=f'ResNet (AUC = {auc_score1:.2f})')\n",
        "plt.plot([0, 1], [0, 1], color='gray', linestyle='--')\n",
        "plt.xlim([0.0, 1.0])\n",
        "plt.ylim([0.0, 1.05])\n",
        "plt.xlabel('False Positive Rate')\n",
        "plt.ylabel('True Positive Rate')\n",
        "plt.title('Receiver Operating Characteristic (ROC) Curve')\n",
        "plt.legend(loc='lower right')\n",
        "plt.show()\n",
        "print(\"DINO AUC score: \",auc_score)\n",
        "print(\"ResNet AUC score: \",auc_score1)\n"
      ],
      "metadata": {
        "colab": {
          "base_uri": "https://localhost:8080/",
          "height": 599
        },
        "id": "5ze30qOK9nVt",
        "outputId": "47fa5d4c-38f9-4232-c813-2d93c09f4188"
      },
      "execution_count": 86,
      "outputs": [
        {
          "output_type": "display_data",
          "data": {
            "text/plain": [
              "<Figure size 800x600 with 1 Axes>"
            ],
            "image/png": "[encoded data removed]"
          },
          "metadata": {}
        },
        {
          "output_type": "stream",
          "name": "stdout",
          "text": [
            "DINO AUC score:  0.7088509316770185\n",
            "ResNet AUC score:  0.462797619047619\n"
          ]
        }
      ]
    },
    {
      "cell_type": "markdown",
      "source": [
        "Saving Weights"
      ],
      "metadata": {
        "id": "baJIPhj9-pji"
      }
    },
    {
      "cell_type": "code",
      "source": [
        "# Save the state_dict of the Dino model\n",
        "torch.save(model.state_dict(), 'dino_model_weights.pth')\n"
      ],
      "metadata": {
        "id": "ygK8ZnPA-owu"
      },
      "execution_count": 87,
      "outputs": []
    },
    {
      "cell_type": "code",
      "execution_count": 88,
      "metadata": {
        "colab": {
          "base_uri": "https://localhost:8080/"
        },
        "id": "wTh86MY7PizA",
        "outputId": "3ae71ab2-595d-4e86-ae55-0d0176571d8f"
      },
      "outputs": [
        {
          "output_type": "execute_result",
          "data": {
            "text/plain": [
              "133"
            ]
          },
          "metadata": {},
          "execution_count": 88
        }
      ],
      "source": [
        "correct"
      ]
    },
    {
      "cell_type": "code",
      "execution_count": 89,
      "metadata": {
        "colab": {
          "base_uri": "https://localhost:8080/"
        },
        "id": "bl511gK5PjSd",
        "outputId": "12a892b9-c79d-4725-e589-a423de5b79be"
      },
      "outputs": [
        {
          "output_type": "execute_result",
          "data": {
            "text/plain": [
              "194"
            ]
          },
          "metadata": {},
          "execution_count": 89
        }
      ],
      "source": [
        "total"
      ]
    }
  ],
  "metadata": {
    "accelerator": "GPU",
    "colab": {
      "gpuType": "T4",
      "provenance": [],
      "include_colab_link": true
    },
    "gpuClass": "standard",
    "kernelspec": {
      "display_name": "Python 3 (ipykernel)",
      "language": "python",
      "name": "python3"
    },
    "language_info": {
      "codemirror_mode": {
        "name": "ipython",
        "version": 3
      },
      "file_extension": ".py",
      "mimetype": "text/x-python",
      "name": "python",
      "nbconvert_exporter": "python",
      "pygments_lexer": "ipython3",
      "version": "3.8.10"
    }
  },
  "nbformat": 4,
  "nbformat_minor": 0
}